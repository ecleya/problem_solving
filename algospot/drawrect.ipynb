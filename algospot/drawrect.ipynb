{
 "cells": [
  {
   "cell_type": "markdown",
   "metadata": {},
   "source": [
    "[문제링크](https://algospot.com/judge/problem/read/DRAWRECT)\n",
    "\n",
    "사각형의 점 4개 중 3개를 입력받아, 남은 한점의 위치를 유추하는 문제이다.\n",
    "\n",
    "각 점의 좌표를 (x1, y1), (x2, y2), (x3, y3)라고 할 때 x1, x2, x3중 한번만 나온 값과 y1, y2, y3중 한번만 나온 값을 찾으면 된다."
   ]
  },
  {
   "cell_type": "code",
   "execution_count": 3,
   "metadata": {
    "collapsed": true
   },
   "outputs": [],
   "source": [
    "%run '../algospot_utils.ipynb'\n",
    "\n",
    "import sys\n",
    "\n",
    "input, print = Algospot('DRAWRECT').overwrite()"
   ]
  },
  {
   "cell_type": "code",
   "execution_count": 4,
   "metadata": {},
   "outputs": [
    {
     "name": "stdout",
     "output_type": "stream",
     "text": [
      "\u001b[32m7 7\u001b[0m\n",
      "\u001b[32m30 10\u001b[0m\n"
     ]
    }
   ],
   "source": [
    "import collections\n",
    "\n",
    "\n",
    "def get_points_by_axis():\n",
    "    points = [[int(x) for x in str(input()).split()] for _ in range(3)]\n",
    "\n",
    "    return [[point[0] for point in points], [point[1] for point in points]]\n",
    "\n",
    "\n",
    "def get_minority(inp):\n",
    "    counter = collections.Counter(inp)\n",
    "    for key in counter:\n",
    "        if counter[key] == 1:\n",
    "            return key\n",
    "\n",
    "    assert False\n",
    "\n",
    "\n",
    "for _ in range(int(input())):\n",
    "    xs, ys = get_points_by_axis()\n",
    "    print('{} {}'.format(get_minority(xs), get_minority(ys)))\n"
   ]
  },
  {
   "cell_type": "markdown",
   "metadata": {},
   "source": [
    "일단 문제를 풀고, 다른 사람들의 해법을 보다가 너무 신박한 해법을 발견했다.\n",
    "\n",
    "xor을 쓰면, 같은 값이 두번 나올 때 그 값이 제거된다는 것에 착안한 해법이었다. 그래서, 코드를 좀 수정해 보았다."
   ]
  },
  {
   "cell_type": "code",
   "execution_count": 9,
   "metadata": {
    "collapsed": true
   },
   "outputs": [],
   "source": [
    "%run '../algospot_utils.ipynb'\n",
    "\n",
    "import sys\n",
    "\n",
    "input, print = Algospot('DRAWRECT').overwrite()"
   ]
  },
  {
   "cell_type": "code",
   "execution_count": 10,
   "metadata": {},
   "outputs": [
    {
     "name": "stdout",
     "output_type": "stream",
     "text": [
      "\u001b[32m7 7\u001b[0m\n",
      "\u001b[32m30 10\u001b[0m\n"
     ]
    }
   ],
   "source": [
    "for _ in range(int(input())):\n",
    "    x = y = 0\n",
    "    for __ in range(3):\n",
    "        inp = list(map(int, str(input()).split()))\n",
    "        x ^= inp[0]\n",
    "        y ^= inp[1]\n",
    "    \n",
    "    print('{} {}'.format(x, y))"
   ]
  },
  {
   "cell_type": "code",
   "execution_count": null,
   "metadata": {
    "collapsed": true
   },
   "outputs": [],
   "source": []
  }
 ],
 "metadata": {
  "kernelspec": {
   "display_name": "Python 3",
   "language": "python",
   "name": "python3"
  },
  "language_info": {
   "codemirror_mode": {
    "name": "ipython",
    "version": 3
   },
   "file_extension": ".py",
   "mimetype": "text/x-python",
   "name": "python",
   "nbconvert_exporter": "python",
   "pygments_lexer": "ipython3",
   "version": "3.6.2"
  }
 },
 "nbformat": 4,
 "nbformat_minor": 2
}
