{
 "cells": [
  {
   "cell_type": "markdown",
   "metadata": {
    "collapsed": true
   },
   "source": [
    "[문제링크](https://algospot.com/judge/problem/read/FESTIVAL)\n",
    "\n",
    "가능한 답을 전부 계산하면 되는 문제. 그런데, 8초나 걸렸다. 어떤 사람은 4초 정도던데.... 아무리 찾아봐도 속도차이가 날만한 부분을 못찾겠다."
   ]
  },
  {
   "cell_type": "code",
   "execution_count": null,
   "metadata": {
    "collapsed": true
   },
   "outputs": [],
   "source": [
    "for _ in range(int(input())):\n",
    "    n, l = [int(x) for x in str(input()).split()]\n",
    "    prices = [int(x) for x in str(input()).split()]\n",
    "\n",
    "    min_avg_cost = sum(prices)\n",
    "    for st in range(n - l + 1):\n",
    "        tot_cost = 0\n",
    "        for en in range(st, n):\n",
    "            tot_cost += prices[en]\n",
    "            days = en - st + 1\n",
    "            avg_cost = tot_cost / days\n",
    "\n",
    "            if days >= l and avg_cost < min_avg_cost:\n",
    "                min_avg_cost = avg_cost\n",
    "\n",
    "    print(min_avg_cost)\n"
   ]
  },
  {
   "cell_type": "markdown",
   "metadata": {},
   "source": [
    "결국 다음 정도의 수준으로 리팩토링을 하는데 그쳤다."
   ]
  },
  {
   "cell_type": "code",
   "execution_count": null,
   "metadata": {
    "collapsed": true
   },
   "outputs": [],
   "source": [
    "for _ in range(int(sys.stdin.readline())):\n",
    "    N, L = map(int, sys.stdin.readline().split())\n",
    "    prices = list(map(int, sys.stdin.readline().split()))\n",
    "\n",
    "    min_avg_cost = 1000 * 1000 + 1 # N의 최대값 * L의 최대값 + 1\n",
    "    for st in range(N - L + 1):\n",
    "        tot_cost = sum(prices[st:st + L - 1])\n",
    "        for en in range(st + L - 1, N):\n",
    "            tot_cost += prices[en]\n",
    "            days = en - st + 1\n",
    "            avg_cost = tot_cost / days\n",
    "\n",
    "            min_avg_cost = min(min_avg_cost, avg_cost)\n",
    "\n",
    "    print(min_avg_cost)\n"
   ]
  }
 ],
 "metadata": {
  "kernelspec": {
   "display_name": "Python 3",
   "language": "python",
   "name": "python3"
  },
  "language_info": {
   "codemirror_mode": {
    "name": "ipython",
    "version": 3
   },
   "file_extension": ".py",
   "mimetype": "text/x-python",
   "name": "python",
   "nbconvert_exporter": "python",
   "pygments_lexer": "ipython3",
   "version": "3.6.1"
  }
 },
 "nbformat": 4,
 "nbformat_minor": 2
}
