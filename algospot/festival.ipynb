{
 "cells": [
  {
   "cell_type": "markdown",
   "metadata": {
    "collapsed": true
   },
   "source": [
    "[문제링크](https://algospot.com/judge/problem/read/FESTIVAL)\n",
    "\n",
    "가능한 답을 전부 계산하면 되는 문제. 그런데, 8초나 걸렸다."
   ]
  },
  {
   "cell_type": "code",
   "execution_count": 7,
   "metadata": {
    "collapsed": true
   },
   "outputs": [],
   "source": [
    "%run '../algospot_utils.ipynb'\n",
    "\n",
    "import sys\n",
    "\n",
    "input, print = Algospot('FESTIVAL', float_matcher).overwrite()"
   ]
  },
  {
   "cell_type": "code",
   "execution_count": 8,
   "metadata": {},
   "outputs": [
    {
     "name": "stdout",
     "output_type": "stream",
     "text": [
      "\u001b[32m1.75\u001b[0m\n",
      "\u001b[32m1.5\u001b[0m\n"
     ]
    }
   ],
   "source": [
    "for _ in range(int(input())):\n",
    "    n, l = [int(x) for x in str(input()).split()]\n",
    "    prices = [int(x) for x in str(input()).split()]\n",
    "\n",
    "    min_avg_cost = sum(prices)\n",
    "    for st in range(n - l + 1):\n",
    "        tot_cost = 0\n",
    "        for en in range(st, n):\n",
    "            tot_cost += prices[en]\n",
    "            days = en - st + 1\n",
    "            avg_cost = tot_cost / days\n",
    "\n",
    "            if days >= l and avg_cost < min_avg_cost:\n",
    "                min_avg_cost = avg_cost\n",
    "\n",
    "    print(min_avg_cost)\n"
   ]
  },
  {
   "cell_type": "markdown",
   "metadata": {},
   "source": [
    "1초 만에 답을 푼 사람이 있어서 그 사람의 코드를 좀 살펴보았는데, 나누기의 횟수에 따라 속도가 달라지는 것 같았다. 즉, 위의 코드는 days가 계속 바뀌는 구조인데, days를 유지해서 마지막에 한번만 나누는 방식으로 변경했더니 5초 정도로 줄어들었다. 미리 계산해두면 좀 더 시간을 줄일 수 있을 것 같긴 한데, 이 정도면 충분한 것 같다.\n",
    "\n",
    "신기한건,\n",
    "```\n",
    "if tot_cost < min_cost:\n",
    "    min_cost = tot_cost\n",
    "```\n",
    "형태의 코드를 `min(tot_cost, min_cost)`로 바꾸면 다시 8초가 된다는 것이다. 이건 대체 왜 이러는 건지 모르겠다."
   ]
  },
  {
   "cell_type": "code",
   "execution_count": 27,
   "metadata": {
    "collapsed": true
   },
   "outputs": [],
   "source": [
    "%run '../algospot_utils.ipynb'\n",
    "\n",
    "import sys\n",
    "\n",
    "input, print = Algospot('FESTIVAL', float_matcher).overwrite()"
   ]
  },
  {
   "cell_type": "code",
   "execution_count": 28,
   "metadata": {},
   "outputs": [
    {
     "name": "stdout",
     "output_type": "stream",
     "text": [
      "\u001b[32m1.75\u001b[0m\n",
      "\u001b[32m1.5\u001b[0m\n"
     ]
    }
   ],
   "source": [
    "for _ in range(int(input())):\n",
    "    n, l = [int(x) for x in str(input()).split()]\n",
    "    prices = [int(x) for x in str(input()).split()]\n",
    "\n",
    "    min_avg_cost = sum(prices)\n",
    "    for days in range(l, n + 1):\n",
    "        min_cost = tot_cost = sum(prices[:days])\n",
    "        for en in range(days, n):\n",
    "            tot_cost += prices[en] - prices[en - days]\n",
    "            if tot_cost < min_cost:\n",
    "                min_cost = tot_cost\n",
    "\n",
    "        avg_cost = min_cost / days\n",
    "        if avg_cost < min_avg_cost:\n",
    "            min_avg_cost = avg_cost\n",
    "\n",
    "    print(min_avg_cost)\n"
   ]
  },
  {
   "cell_type": "code",
   "execution_count": null,
   "metadata": {
    "collapsed": true
   },
   "outputs": [],
   "source": []
  }
 ],
 "metadata": {
  "kernelspec": {
   "display_name": "Python 3",
   "language": "python",
   "name": "python3"
  },
  "language_info": {
   "codemirror_mode": {
    "name": "ipython",
    "version": 3
   },
   "file_extension": ".py",
   "mimetype": "text/x-python",
   "name": "python",
   "nbconvert_exporter": "python",
   "pygments_lexer": "ipython3",
   "version": "3.6.2"
  }
 },
 "nbformat": 4,
 "nbformat_minor": 2
}
