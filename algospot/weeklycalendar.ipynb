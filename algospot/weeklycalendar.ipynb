{
 "cells": [
  {
   "cell_type": "markdown",
   "metadata": {},
   "source": [
    "[문제링크](https://algospot.com/judge/problem/read/WEEKLYCALENDAR)\n",
    "번만 나온 값과 y1, y2, y3중 한번만 나온 값을 찾으면 된다."
   ]
  },
  {
   "cell_type": "code",
   "execution_count": 1,
   "metadata": {
    "collapsed": true
   },
   "outputs": [],
   "source": [
    "%run '../algospot_utils.ipynb'\n",
    "\n",
    "import sys\n",
    "\n",
    "input, print = Algospot('WEEKLYCALENDAR').overwrite()"
   ]
  },
  {
   "cell_type": "code",
   "execution_count": 2,
   "metadata": {},
   "outputs": [
    {
     "name": "stdout",
     "output_type": "stream",
     "text": [
      "\u001b[32m21 22 23 24 25 26 27\u001b[0m\n",
      "\u001b[32m27 28 29 30 31 1 2\u001b[0m\n",
      "\u001b[32m28 29 30 31 1 2 3\u001b[0m\n",
      "\u001b[32m27 28 29 30 31 1 2\u001b[0m\n",
      "\u001b[32m27 28 29 30 31 1 2\u001b[0m\n"
     ]
    }
   ],
   "source": [
    "days_of_month = [31, 31, 28, 31, 30, 31, 30, 31, 31, 30, 31, 30, 31, 31]\n",
    "day_of_week = ['Sunday', 'Monday', 'Tuesday', 'Wednesday', 'Thursday', 'Friday', 'Saturday']\n",
    "\n",
    "\n",
    "for _ in range(int(input())):\n",
    "    m, d, s = input().split()\n",
    "    m = int(m)\n",
    "    d = int(d)\n",
    "\n",
    "    d -= day_of_week.index(s)\n",
    "    if d <= 0:\n",
    "        d += days_of_month[m - 1]\n",
    "        m -= 1\n",
    "\n",
    "    result = []\n",
    "    for __ in range(7):\n",
    "        result.append(str(d))\n",
    "        d += 1\n",
    "        if d > days_of_month[m]:\n",
    "            d = 1\n",
    "\n",
    "    print(' '.join(result))\n"
   ]
  },
  {
   "cell_type": "code",
   "execution_count": null,
   "metadata": {
    "collapsed": true
   },
   "outputs": [],
   "source": []
  }
 ],
 "metadata": {
  "kernelspec": {
   "display_name": "Python 3",
   "language": "python",
   "name": "python3"
  },
  "language_info": {
   "codemirror_mode": {
    "name": "ipython",
    "version": 3
   },
   "file_extension": ".py",
   "mimetype": "text/x-python",
   "name": "python",
   "nbconvert_exporter": "python",
   "pygments_lexer": "ipython3",
   "version": "3.6.2"
  }
 },
 "nbformat": 4,
 "nbformat_minor": 2
}
