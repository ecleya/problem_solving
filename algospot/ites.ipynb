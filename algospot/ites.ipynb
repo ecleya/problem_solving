{
 "cells": [
  {
   "cell_type": "markdown",
   "metadata": {},
   "source": [
    "[문제링크](https://algospot.com/judge/problem/read/ITES)\n",
    "\n"
   ]
  },
  {
   "cell_type": "code",
   "execution_count": 2,
   "metadata": {
    "collapsed": true
   },
   "outputs": [],
   "source": [
    "%run '../algospot_utils.ipynb'\n",
    "\n",
    "import sys\n",
    "\n",
    "input, print = Algospot('ITES').overwrite()"
   ]
  },
  {
   "cell_type": "code",
   "execution_count": 5,
   "metadata": {},
   "outputs": [],
   "source": [
    "import time\n",
    "max_n = 50000000\n",
    "a = [None]\n",
    "mod = 2**32\n",
    "\n",
    "for idx in range(1, max_n + 1):\n",
    "    a.append((a[-1] * 214013 + 2531011) % mod)\n",
    "    \n",
    "# for _ in range(int(input())):\n",
    "#     a0, n = map(int, str(input()).split())\n",
    "#     a.append(a0)\n",
    "#     for idx in range(1, n + 1):\n",
    "#         a.append((a[-1] * 214013 + 2531011) % mod)\n",
    "    \n",
    "#     print(1)\n"
   ]
  },
  {
   "cell_type": "code",
   "execution_count": 35,
   "metadata": {},
   "outputs": [
    {
     "name": "stdout",
     "output_type": "stream",
     "text": [
      "[1983, 426918790, 3629214769, 1552047664, 2788443187]\n"
     ]
    }
   ],
   "source": [
    "max_n = 50000000\n",
    "a = [None] * (max_n + 1)\n",
    "mod = 2**32\n",
    "a[0] = 1983\n",
    "\n",
    "for idx in range(1, max_n + 1):\n",
    "    a[idx] = (a[idx-1] * 214013 + 2531011) % mod\n",
    "\n",
    "__builtin__.print(a[:5])"
   ]
  },
  {
   "cell_type": "code",
   "execution_count": 36,
   "metadata": {},
   "outputs": [
    {
     "name": "stdout",
     "output_type": "stream",
     "text": [
      "0:00:22.670190\n",
      "400000072\n"
     ]
    }
   ],
   "source": [
    "import sys\n",
    "from datetime import datetime\n",
    "st = datetime.now()\n",
    "max_n = 50000000\n",
    "a = [1983] * (max_n + 1)\n",
    "mod = 2**32\n",
    "\n",
    "for idx in range(1, max_n + 1):\n",
    "    a[idx] = (a[idx-1] * 214013 + 2531011)  & 0x00000000ffffffff\n",
    "    if a[idx] == a[0]:\n",
    "        __builtin__.print('Yeah~')\n",
    "\n",
    "\n",
    "__builtin__.print(datetime.now() - st)\n",
    "__builtin__.print(sys.getsizeof(a))"
   ]
  },
  {
   "cell_type": "code",
   "execution_count": 20,
   "metadata": {},
   "outputs": [
    {
     "name": "stdout",
     "output_type": "stream",
     "text": [
      "0:00:25.450162 \n"
     ]
    }
   ],
   "source": [
    "from datetime import datetime\n",
    "st = datetime.now()\n",
    "max_n = 50000000\n",
    "a = [1983]\n",
    "mod = 2**32\n",
    "a[0] = 1983\n",
    "\n",
    "for idx in range(1, max_n + 1):\n",
    "    a.append((a[idx-1] * 214013 + 2531011) % mod)\n",
    "\n",
    "\n",
    "__builtin__.print(datetime.now() - st, '')"
   ]
  },
  {
   "cell_type": "code",
   "execution_count": 21,
   "metadata": {},
   "outputs": [
    {
     "data": {
      "text/plain": [
       "400000072"
      ]
     },
     "execution_count": 21,
     "metadata": {},
     "output_type": "execute_result"
    }
   ],
   "source": [
    "import sys\n",
    "sys.getsizeof([None]*50000001)"
   ]
  },
  {
   "cell_type": "code",
   "execution_count": 28,
   "metadata": {},
   "outputs": [
    {
     "name": "stdout",
     "output_type": "stream",
     "text": [
      "0:00:27.233103 \n",
      "210809500\n"
     ]
    }
   ],
   "source": [
    "import array\n",
    "from datetime import datetime\n",
    "st = datetime.now()\n",
    "max_n = 50000000\n",
    "a = array.array('I', [1983])\n",
    "mod = 2**32\n",
    "\n",
    "for idx in range(1, max_n + 1):\n",
    "    a.append((a[-1] * 214013 + 2531011) % mod)\n",
    "    if a[idx] == a[0]:\n",
    "        __builtin__.print('Yeah~')\n",
    "\n",
    "\n",
    "__builtin__.print(datetime.now() - st, '')\n",
    "__builtin__.print(sys.getsizeof(a))"
   ]
  },
  {
   "cell_type": "code",
   "execution_count": null,
   "metadata": {
    "collapsed": true
   },
   "outputs": [],
   "source": []
  }
 ],
 "metadata": {
  "kernelspec": {
   "display_name": "Python 3",
   "language": "python",
   "name": "python3"
  },
  "language_info": {
   "codemirror_mode": {
    "name": "ipython",
    "version": 3
   },
   "file_extension": ".py",
   "mimetype": "text/x-python",
   "name": "python",
   "nbconvert_exporter": "python",
   "pygments_lexer": "ipython3",
   "version": "3.6.2"
  }
 },
 "nbformat": 4,
 "nbformat_minor": 2
}
