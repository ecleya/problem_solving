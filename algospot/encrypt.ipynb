{
 "cells": [
  {
   "cell_type": "markdown",
   "metadata": {},
   "source": [
    "[문제 링크](https://algospot.com/judge/problem/read/ENCRYPT)\n",
    "\n",
    "문자열을 입력받은 뒤, 짝수 위치에 있는 글자를 먼저 출력하고 다음에 홀수 위치에 있는 글자를 출력하면 되는 문제이다.\n",
    "\n",
    "문제 자체에는 어려울 게 없어서 다음과 같이 작성하였다."
   ]
  },
  {
   "cell_type": "code",
   "execution_count": 3,
   "metadata": {},
   "outputs": [
    {
     "name": "stdout",
     "output_type": "stream",
     "text": [
      "2\n",
      "A\n",
      "A\n",
      "HelloWorld\n",
      "HloolelWrd\n"
     ]
    }
   ],
   "source": [
    "def encrypt(inp):\n",
    "    result = [inp[idx] for idx in range(0, len(inp), 2)]\n",
    "    result.extend([inp[idx] for idx in range(1, len(inp), 2)])\n",
    "\n",
    "    return ''.join(result)\n",
    "\n",
    "\n",
    "for _ in range(int(input())):\n",
    "    inp = str(input())\n",
    "    print(encrypt(inp))\n"
   ]
  },
  {
   "cell_type": "markdown",
   "metadata": {},
   "source": [
    "이후에 다른 사람들의 코드를 확인해보다가 새로운 문법을 알게되었고, 다음과 같이 수정해보았다."
   ]
  },
  {
   "cell_type": "code",
   "execution_count": 4,
   "metadata": {},
   "outputs": [
    {
     "name": "stdout",
     "output_type": "stream",
     "text": [
      "2\n",
      "A\n",
      "A\n",
      "HelloWorld\n",
      "HloolelWrd\n"
     ]
    }
   ],
   "source": [
    "for _ in range(int(input())):\n",
    "    inp = str(input())\n",
    "    print(''.join(inp[0::2] + inp[1::2]))\n"
   ]
  },
  {
   "cell_type": "code",
   "execution_count": null,
   "metadata": {
    "collapsed": true
   },
   "outputs": [],
   "source": []
  }
 ],
 "metadata": {
  "kernelspec": {
   "display_name": "Python 3",
   "language": "python",
   "name": "python3"
  },
  "language_info": {
   "codemirror_mode": {
    "name": "ipython",
    "version": 3
   },
   "file_extension": ".py",
   "mimetype": "text/x-python",
   "name": "python",
   "nbconvert_exporter": "python",
   "pygments_lexer": "ipython3",
   "version": "3.6.1"
  }
 },
 "nbformat": 4,
 "nbformat_minor": 2
}
