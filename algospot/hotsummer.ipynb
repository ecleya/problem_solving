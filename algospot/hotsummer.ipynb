{
 "cells": [
  {
   "cell_type": "markdown",
   "metadata": {},
   "source": [
    "[문제링크](https://algospot.com/judge/problem/read/HOTSUMMER)\n",
    "\n"
   ]
  },
  {
   "cell_type": "code",
   "execution_count": 3,
   "metadata": {
    "collapsed": true
   },
   "outputs": [],
   "source": [
    "%run '../algospot_utils.ipynb'\n",
    "\n",
    "import sys\n",
    "\n",
    "input, print = Algospot('HOTSUMMER').overwrite()"
   ]
  },
  {
   "cell_type": "code",
   "execution_count": 4,
   "metadata": {},
   "outputs": [
    {
     "name": "stdout",
     "output_type": "stream",
     "text": [
      "\u001b[32mYES\u001b[0m\n",
      "\u001b[32mYES\u001b[0m\n",
      "\u001b[32mNO\u001b[0m\n"
     ]
    }
   ],
   "source": [
    "for _ in range(int(input())):\n",
    "    limit = int(input())\n",
    "    amounts = map(int, str(input()).split())\n",
    "\n",
    "    print('YES' if sum(amounts) <= limit else 'NO')"
   ]
  },
  {
   "cell_type": "code",
   "execution_count": null,
   "metadata": {
    "collapsed": true
   },
   "outputs": [],
   "source": []
  }
 ],
 "metadata": {
  "kernelspec": {
   "display_name": "Python 3",
   "language": "python",
   "name": "python3"
  },
  "language_info": {
   "codemirror_mode": {
    "name": "ipython",
    "version": 3
   },
   "file_extension": ".py",
   "mimetype": "text/x-python",
   "name": "python",
   "nbconvert_exporter": "python",
   "pygments_lexer": "ipython3",
   "version": "3.6.2"
  }
 },
 "nbformat": 4,
 "nbformat_minor": 2
}
