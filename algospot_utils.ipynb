{
 "cells": [
  {
   "cell_type": "code",
   "execution_count": 8,
   "metadata": {
    "collapsed": true
   },
   "outputs": [],
   "source": [
    "import io\n",
    "\n",
    "import requests\n",
    "from bs4 import BeautifulSoup\n",
    "from termcolor import colored\n",
    "\n",
    "\n",
    "def exact_matcher(lhs, rhs):\n",
    "    return lhs == rhs\n",
    "\n",
    "\n",
    "def float_matcher(lhs, rhs):\n",
    "    return abs(float(lhs) - float(rhs)) <= 10**-7\n",
    "\n",
    "\n",
    "class Algospot:\n",
    "    def __init__(self, problem_id, matcher=None):\n",
    "        self._problem_id = problem_id\n",
    "        self._matcher = exact_matcher if matcher is None else matcher\n",
    "        \n",
    "        self._page = None\n",
    "        \n",
    "    def overwrite(self):\n",
    "        return self._input(), self._print()\n",
    "    \n",
    "    def _input(self):\n",
    "        tag = self.page.find('section', class_='problem_sample_input').find('pre')\n",
    "        return io.StringIO(tag.text).readline\n",
    "    \n",
    "    def _print(self):\n",
    "        tag = self.page.find('section', class_='problem_sample_output').find('pre')\n",
    "        correct_answers = iter(io.StringIO(tag.text).readlines())\n",
    "\n",
    "        def grading(answer):\n",
    "            color = 'red'\n",
    "            answer = str(answer).strip()\n",
    "            correct_answer = correct_answers.__next__().strip()\n",
    "            if self._matcher(answer, correct_answer):\n",
    "                color = 'green'\n",
    "            __builtin__.print(colored(answer, color))\n",
    "            \n",
    "        return grading\n",
    "    \n",
    "    @property\n",
    "    def problem_url(self):\n",
    "        return 'https://algospot.com/judge/problem/read/{}'.format(self._problem_id)\n",
    "    \n",
    "    @property\n",
    "    def page(self):\n",
    "        if self._page is None:\n",
    "            html = requests.get(self.problem_url)\n",
    "            self._page = BeautifulSoup(html.text, \"html5lib\")\n",
    "            \n",
    "        return self._page\n"
   ]
  },
  {
   "cell_type": "code",
   "execution_count": null,
   "metadata": {
    "collapsed": true
   },
   "outputs": [],
   "source": []
  }
 ],
 "metadata": {
  "kernelspec": {
   "display_name": "algospot",
   "language": "python",
   "name": "algospot"
  },
  "language_info": {
   "codemirror_mode": {
    "name": "ipython",
    "version": 3
   },
   "file_extension": ".py",
   "mimetype": "text/x-python",
   "name": "python",
   "nbconvert_exporter": "python",
   "pygments_lexer": "ipython3",
   "version": "3.6.2"
  }
 },
 "nbformat": 4,
 "nbformat_minor": 2
}
